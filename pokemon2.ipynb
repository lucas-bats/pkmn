{
 "cells": [
  {
   "cell_type": "code",
   "execution_count": 1,
   "id": "281b819a",
   "metadata": {},
   "outputs": [
    {
     "name": "stdout",
     "output_type": "stream",
     "text": [
      "Defaulting to user installation because normal site-packages is not writeable\n",
      "Requirement already satisfied: pandas in c:\\programdata\\anaconda3\\1\\lib\\site-packages (1.4.4)\n",
      "Requirement already satisfied: pytz>=2020.1 in c:\\programdata\\anaconda3\\1\\lib\\site-packages (from pandas) (2022.1)\n",
      "Requirement already satisfied: numpy>=1.18.5 in c:\\programdata\\anaconda3\\1\\lib\\site-packages (from pandas) (1.21.5)\n",
      "Requirement already satisfied: python-dateutil>=2.8.1 in c:\\programdata\\anaconda3\\1\\lib\\site-packages (from pandas) (2.8.2)\n",
      "Requirement already satisfied: six>=1.5 in c:\\programdata\\anaconda3\\1\\lib\\site-packages (from python-dateutil>=2.8.1->pandas) (1.16.0)\n",
      "Note: you may need to restart the kernel to use updated packages.\n"
     ]
    }
   ],
   "source": [
    "pip install pandas"
   ]
  },
  {
   "cell_type": "code",
   "execution_count": 2,
   "id": "4fe29094",
   "metadata": {},
   "outputs": [],
   "source": [
    "import pandas as pd"
   ]
  },
  {
   "cell_type": "code",
   "execution_count": 4,
   "id": "0af7b235",
   "metadata": {},
   "outputs": [
    {
     "name": "stdout",
     "output_type": "stream",
     "text": [
      "      Unnamed: 0  Nome Pokemon  Total\n",
      "0              0     Bulbasaur    318\n",
      "1              1       Ivysaur    405\n",
      "2              2      Venusaur    525\n",
      "3              3    Charmander    309\n",
      "4              4    Charmeleon    405\n",
      "...          ...           ...    ...\n",
      "1003        1003        Chi-Yu    570\n",
      "1004        1004  Roaring Moon    590\n",
      "1005        1005  Iron Valiant    590\n",
      "1006        1006      Koraidon    670\n",
      "1007        1007      Miraidon    670\n",
      "\n",
      "[1008 rows x 3 columns]\n"
     ]
    }
   ],
   "source": [
    "data = pd.read_csv('result.csv')\n",
    "print(data)"
   ]
  },
  {
   "cell_type": "code",
   "execution_count": 5,
   "id": "93f15939",
   "metadata": {},
   "outputs": [],
   "source": [
    "# new index\n",
    "data.index = data.index+1"
   ]
  },
  {
   "cell_type": "code",
   "execution_count": 6,
   "id": "f4481b94",
   "metadata": {},
   "outputs": [
    {
     "data": {
      "text/html": [
       "<div>\n",
       "<style scoped>\n",
       "    .dataframe tbody tr th:only-of-type {\n",
       "        vertical-align: middle;\n",
       "    }\n",
       "\n",
       "    .dataframe tbody tr th {\n",
       "        vertical-align: top;\n",
       "    }\n",
       "\n",
       "    .dataframe thead th {\n",
       "        text-align: right;\n",
       "    }\n",
       "</style>\n",
       "<table border=\"1\" class=\"dataframe\">\n",
       "  <thead>\n",
       "    <tr style=\"text-align: right;\">\n",
       "      <th></th>\n",
       "      <th>Unnamed: 0</th>\n",
       "      <th>Nome Pokemon</th>\n",
       "      <th>Total</th>\n",
       "    </tr>\n",
       "  </thead>\n",
       "  <tbody>\n",
       "    <tr>\n",
       "      <th>1</th>\n",
       "      <td>0</td>\n",
       "      <td>Bulbasaur</td>\n",
       "      <td>318</td>\n",
       "    </tr>\n",
       "    <tr>\n",
       "      <th>2</th>\n",
       "      <td>1</td>\n",
       "      <td>Ivysaur</td>\n",
       "      <td>405</td>\n",
       "    </tr>\n",
       "    <tr>\n",
       "      <th>3</th>\n",
       "      <td>2</td>\n",
       "      <td>Venusaur</td>\n",
       "      <td>525</td>\n",
       "    </tr>\n",
       "    <tr>\n",
       "      <th>4</th>\n",
       "      <td>3</td>\n",
       "      <td>Charmander</td>\n",
       "      <td>309</td>\n",
       "    </tr>\n",
       "    <tr>\n",
       "      <th>5</th>\n",
       "      <td>4</td>\n",
       "      <td>Charmeleon</td>\n",
       "      <td>405</td>\n",
       "    </tr>\n",
       "    <tr>\n",
       "      <th>...</th>\n",
       "      <td>...</td>\n",
       "      <td>...</td>\n",
       "      <td>...</td>\n",
       "    </tr>\n",
       "    <tr>\n",
       "      <th>1004</th>\n",
       "      <td>1003</td>\n",
       "      <td>Chi-Yu</td>\n",
       "      <td>570</td>\n",
       "    </tr>\n",
       "    <tr>\n",
       "      <th>1005</th>\n",
       "      <td>1004</td>\n",
       "      <td>Roaring Moon</td>\n",
       "      <td>590</td>\n",
       "    </tr>\n",
       "    <tr>\n",
       "      <th>1006</th>\n",
       "      <td>1005</td>\n",
       "      <td>Iron Valiant</td>\n",
       "      <td>590</td>\n",
       "    </tr>\n",
       "    <tr>\n",
       "      <th>1007</th>\n",
       "      <td>1006</td>\n",
       "      <td>Koraidon</td>\n",
       "      <td>670</td>\n",
       "    </tr>\n",
       "    <tr>\n",
       "      <th>1008</th>\n",
       "      <td>1007</td>\n",
       "      <td>Miraidon</td>\n",
       "      <td>670</td>\n",
       "    </tr>\n",
       "  </tbody>\n",
       "</table>\n",
       "<p>1008 rows × 3 columns</p>\n",
       "</div>"
      ],
      "text/plain": [
       "      Unnamed: 0  Nome Pokemon  Total\n",
       "1              0     Bulbasaur    318\n",
       "2              1       Ivysaur    405\n",
       "3              2      Venusaur    525\n",
       "4              3    Charmander    309\n",
       "5              4    Charmeleon    405\n",
       "...          ...           ...    ...\n",
       "1004        1003        Chi-Yu    570\n",
       "1005        1004  Roaring Moon    590\n",
       "1006        1005  Iron Valiant    590\n",
       "1007        1006      Koraidon    670\n",
       "1008        1007      Miraidon    670\n",
       "\n",
       "[1008 rows x 3 columns]"
      ]
     },
     "execution_count": 6,
     "metadata": {},
     "output_type": "execute_result"
    }
   ],
   "source": [
    "data"
   ]
  },
  {
   "cell_type": "code",
   "execution_count": 19,
   "id": "a2c92be4",
   "metadata": {},
   "outputs": [
    {
     "name": "stdout",
     "output_type": "stream",
     "text": [
      "      Nome Pokemon  Total\n",
      "1        Bulbasaur    318\n",
      "2          Ivysaur    405\n",
      "3         Venusaur    525\n",
      "4       Charmander    309\n",
      "5       Charmeleon    405\n",
      "...            ...    ...\n",
      "1004        Chi-Yu    570\n",
      "1005  Roaring Moon    590\n",
      "1006  Iron Valiant    590\n",
      "1007      Koraidon    670\n",
      "1008      Miraidon    670\n",
      "\n",
      "[1008 rows x 2 columns]\n"
     ]
    }
   ],
   "source": [
    "# drop the old index\n",
    "df2 = data.drop(data.columns[0],axis=1)\n",
    "print(df2)"
   ]
  },
  {
   "cell_type": "code",
   "execution_count": 20,
   "id": "3b1edbca",
   "metadata": {},
   "outputs": [],
   "source": [
    "df2.to_csv('final.csv')"
   ]
  },
  {
   "cell_type": "code",
   "execution_count": 21,
   "id": "775bfced",
   "metadata": {},
   "outputs": [],
   "source": [
    "import matplotlib"
   ]
  },
  {
   "cell_type": "code",
   "execution_count": 22,
   "id": "913eeb8a",
   "metadata": {},
   "outputs": [],
   "source": [
    "import matplotlib.pyplot as plt"
   ]
  },
  {
   "cell_type": "code",
   "execution_count": 23,
   "id": "56379783",
   "metadata": {},
   "outputs": [],
   "source": [
    "import numpy as np"
   ]
  },
  {
   "cell_type": "code",
   "execution_count": 51,
   "id": "07b4c6cb",
   "metadata": {},
   "outputs": [],
   "source": [
    "# filter to get the most powerful Pokemon\n",
    "df3 = df2.query(\"Total >= 680 \")\n"
   ]
  },
  {
   "cell_type": "code",
   "execution_count": 52,
   "id": "eda3e610",
   "metadata": {},
   "outputs": [
    {
     "data": {
      "text/plain": [
       "<matplotlib.legend.Legend at 0x11befb2a7f0>"
      ]
     },
     "execution_count": 52,
     "metadata": {},
     "output_type": "execute_result"
    },
    {
     "data": {
      "image/png": "[encoded data removed]",
      "text/plain": [
       "<Figure size 640x480 with 1 Axes>"
      ]
     },
     "metadata": {},
     "output_type": "display_data"
    }
   ],
   "source": [
    "# bar graph\n",
    "df3.plot(kind='barh',x='Nome Pokemon',y='Total')\n",
    "# put the legend outside the box\n",
    "plt.legend(bbox_to_anchor=(1.02, 0.1), loc='upper left', borderaxespad=0)"
   ]
  },
  {
   "cell_type": "code",
   "execution_count": null,
   "id": "f908d5fb",
   "metadata": {},
   "outputs": [],
   "source": []
  }
 ],
 "metadata": {
  "kernelspec": {
   "display_name": "Python 3 (ipykernel)",
   "language": "python",
   "name": "python3"
  },
  "language_info": {
   "codemirror_mode": {
    "name": "ipython",
    "version": 3
   },
   "file_extension": ".py",
   "mimetype": "text/x-python",
   "name": "python",
   "nbconvert_exporter": "python",
   "pygments_lexer": "ipython3",
   "version": "3.9.13"
  }
 },
 "nbformat": 4,
 "nbformat_minor": 5
}
